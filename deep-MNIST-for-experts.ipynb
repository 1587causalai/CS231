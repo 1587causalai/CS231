{
 "cells": [
  {
   "cell_type": "markdown",
   "metadata": {},
   "source": [
    "# Deep MNIST for Experts\n",
    "\n",
    "What we will accomplish in this tutorial:\n",
    "\n",
    "- Create a softmax regression function that is a model for recognizing MNIST digits, based on looking at every pixel in the image\n",
    "- Use Tensorflow to train the model to recognize digits by having it \"look\" at thousands of examples (and run our first Tensorflow session to do so)\n",
    "- Check the model's accuracy with our test data\n",
    "- Build, train, and test a multilayer convolutional neural network to improve the results\n",
    "\n",
    "本文的资料来自于 [tensorflow tutorial](https://www.tensorflow.org/get_started/mnist/pros)\n"
   ]
  },
  {
   "cell_type": "markdown",
   "metadata": {},
   "source": [
    "## Setup\n",
    "\n",
    "读入模块和数据"
   ]
  },
  {
   "cell_type": "code",
   "execution_count": 1,
   "metadata": {},
   "outputs": [
    {
     "name": "stdout",
     "output_type": "stream",
     "text": [
      "Extracting MNIST_data/train-images-idx3-ubyte.gz\n",
      "Extracting MNIST_data/train-labels-idx1-ubyte.gz\n",
      "Extracting MNIST_data/t10k-images-idx3-ubyte.gz\n",
      "Extracting MNIST_data/t10k-labels-idx1-ubyte.gz\n"
     ]
    }
   ],
   "source": [
    "# 读入数据\n",
    "from tensorflow.examples.tutorials.mnist import input_data\n",
    "mnist = input_data.read_data_sets('MNIST_data', one_hot=True)\n",
    "\n",
    "# 读入模块\n",
    "import tensorflow as tf\n",
    "sess = tf.InteractiveSession()\n"
   ]
  },
  {
   "cell_type": "markdown",
   "metadata": {},
   "source": [
    " If you are not using an InteractiveSession, then you should build the entire computation graph before starting a session and launching the graph."
   ]
  },
  {
   "cell_type": "markdown",
   "metadata": {},
   "source": [
    "# Part I: 简单的 Softmax regression 模型\n",
    "\n",
    "## 1. Build a Softmax Regression Model\n",
    "\n",
    "In this section we will build a softmax regression model with a single linear layer. In the next section, we will extend this to the case of softmax regression with a multilayer convolutional network."
   ]
  },
  {
   "cell_type": "code",
   "execution_count": 2,
   "metadata": {
    "collapsed": true
   },
   "outputs": [],
   "source": [
    "x = tf.placeholder(tf.float32, shape=[None, 784])\n",
    "y_ = tf.placeholder(tf.float32, shape=[None, 10])"
   ]
  },
  {
   "cell_type": "markdown",
   "metadata": {},
   "source": [
    "1. 为什么是 784？ \n",
    "2. shape 的第一个维数为什么用 None?"
   ]
  },
  {
   "cell_type": "code",
   "execution_count": 3,
   "metadata": {},
   "outputs": [
    {
     "name": "stdout",
     "output_type": "stream",
     "text": [
      "Tensor(\"add:0\", shape=(?, 10), dtype=float32) Tensor(\"Placeholder_1:0\", shape=(?, 10), dtype=float32)\n",
      "Tensor(\"Placeholder:0\", shape=(?, 784), dtype=float32)\n"
     ]
    }
   ],
   "source": [
    "W = tf.Variable(tf.zeros([784,10]))\n",
    "b = tf.Variable(tf.zeros([10]))\n",
    "\n",
    "sess.run(tf.global_variables_initializer())\n",
    "\n",
    "y = tf.matmul(x,W) + b\n",
    "print (y, y_)\n",
    "print (x)\n",
    "\n",
    "cross_entropy = tf.reduce_mean(\n",
    "    tf.nn.softmax_cross_entropy_with_logits(labels=y_, logits=y))\n",
    "\n",
    "train_step = tf.train.GradientDescentOptimizer(0.5).minimize(cross_entropy)\n"
   ]
  },
  {
   "cell_type": "markdown",
   "metadata": {},
   "source": [
    "## 2. 模型训练和计算"
   ]
  },
  {
   "cell_type": "code",
   "execution_count": 8,
   "metadata": {
    "collapsed": true
   },
   "outputs": [],
   "source": [
    "for _ in range(1000):\n",
    "    batch = mnist.train.next_batch(100)\n",
    "#     print (batch.shape)\n",
    "    train_step.run(feed_dict={x: batch[0], y_: batch[1]})"
   ]
  },
  {
   "cell_type": "code",
   "execution_count": 12,
   "metadata": {},
   "outputs": [
    {
     "name": "stdout",
     "output_type": "stream",
     "text": [
      "0.9213\n"
     ]
    }
   ],
   "source": [
    "correct_prediction = tf.equal(tf.argmax(y,1), tf.argmax(y_,1))\n",
    "accuracy = tf.reduce_mean(tf.cast(correct_prediction, tf.float32))\n",
    "# print(sess.run(accuracy))\n",
    "print(accuracy.eval(feed_dict={x: mnist.test.images, y_: mnist.test.labels}))"
   ]
  },
  {
   "cell_type": "markdown",
   "metadata": {},
   "source": [
    "# Part II: 多层卷积网路"
   ]
  },
  {
   "cell_type": "markdown",
   "metadata": {},
   "source": [
    "### Weight Initialization"
   ]
  },
  {
   "cell_type": "code",
   "execution_count": 1,
   "metadata": {
    "collapsed": true
   },
   "outputs": [],
   "source": [
    "def weight_variable(shape):\n",
    "    initial = tf.truncated_normal(shape, stddev=0.1)\n",
    "    return tf.Variable(initial)\n",
    "\n",
    "def bias_variable(shape):\n",
    "    initial = tf.constant(0.1, shape=shape)\n",
    "    return tf.Variable(initial)"
   ]
  },
  {
   "cell_type": "markdown",
   "metadata": {},
   "source": [
    "### Convolution and Pooling"
   ]
  },
  {
   "cell_type": "code",
   "execution_count": 21,
   "metadata": {
    "collapsed": true
   },
   "outputs": [],
   "source": [
    "def conv2d(x, W):\n",
    "    return tf.nn.conv2d(x, W, strides=[1, 1, 1, 1], padding='SAME')\n",
    "\n",
    "def max_pool_2x2(x):\n",
    "    return tf.nn.max_pool(x, ksize=[1, 2, 2, 1], strides=[1, 2, 2, 1], padding='SAME')\n",
    "\n"
   ]
  },
  {
   "cell_type": "markdown",
   "metadata": {},
   "source": [
    "## 1. Model building"
   ]
  },
  {
   "cell_type": "code",
   "execution_count": 27,
   "metadata": {
    "collapsed": true
   },
   "outputs": [],
   "source": [
    "# First Convolutional Layer\n",
    "W_conv1 = weight_variable([5, 5, 1, 32])\n",
    "b_conv1 = bias_variable([32])\n",
    "\n",
    "x_image = tf.reshape(x, [-1, 28, 28, 1])\n",
    "\n",
    "h_conv1 = tf.nn.relu(conv2d(x_image, W_conv1) + b_conv1)\n",
    "h_pool1 = max_pool_2x2(h_conv1)\n",
    "\n",
    "# Second Convolutional Layer\n",
    "W_conv2 = weight_variable([5, 5, 32, 64])\n",
    "b_conv2 = bias_variable([64])\n",
    "\n",
    "h_conv2 = tf.nn.relu(conv2d(h_pool1, W_conv2) + b_conv2)\n",
    "h_pool2 = max_pool_2x2(h_conv2)\n",
    "\n",
    "# Densely Connected Layer\n",
    "W_fc1 = weight_variable([7 * 7 * 64, 1024])\n",
    "b_fc1 = bias_variable([1024])\n",
    "\n",
    "h_pool2_flat = tf.reshape(h_pool2, [-1, 7*7*64])\n",
    "h_fc1 = tf.nn.relu(tf.matmul(h_pool2_flat, W_fc1) + b_fc1)\n",
    "\n",
    "# Dropout\n",
    "keep_prob = tf.placeholder(tf.float32)\n",
    "h_fc1_drop = tf.nn.dropout(h_fc1, keep_prob)\n",
    "\n",
    "# Readout Layer\n",
    "W_fc2 = weight_variable([1024, 10])\n",
    "b_fc2 = bias_variable([10])\n",
    "\n",
    "y_conv = tf.matmul(h_fc1_drop, W_fc2) + b_fc2"
   ]
  },
  {
   "cell_type": "markdown",
   "metadata": {},
   "source": [
    "## 2. Train and Evaluate the Model"
   ]
  },
  {
   "cell_type": "code",
   "execution_count": 30,
   "metadata": {},
   "outputs": [
    {
     "name": "stdout",
     "output_type": "stream",
     "text": [
      "step 0, training accuracy 0.2\n",
      "step 100, training accuracy 0.18\n",
      "step 200, training accuracy 0.08\n",
      "step 300, training accuracy 0.1\n",
      "step 400, training accuracy 0.1\n",
      "step 500, training accuracy 0.06\n",
      "step 600, training accuracy 0.1\n",
      "step 700, training accuracy 0.12\n",
      "step 800, training accuracy 0.14\n",
      "step 900, training accuracy 0.1\n",
      "step 1000, training accuracy 0.08\n",
      "step 1100, training accuracy 0.14\n",
      "step 1200, training accuracy 0.16\n",
      "step 1300, training accuracy 0.14\n",
      "step 1400, training accuracy 0.16\n",
      "step 1500, training accuracy 0.2\n",
      "step 1600, training accuracy 0.38\n",
      "step 1700, training accuracy 0.24\n",
      "step 1800, training accuracy 0.24\n",
      "step 1900, training accuracy 0.24\n",
      "step 2000, training accuracy 0.28\n",
      "step 2100, training accuracy 0.32\n",
      "step 2200, training accuracy 0.38\n",
      "step 2300, training accuracy 0.3\n",
      "step 2400, training accuracy 0.38\n",
      "step 2500, training accuracy 0.38\n",
      "step 2600, training accuracy 0.34\n",
      "step 2700, training accuracy 0.42\n",
      "step 2800, training accuracy 0.34\n",
      "step 2900, training accuracy 0.24\n",
      "step 3000, training accuracy 0.52\n",
      "step 3100, training accuracy 0.48\n",
      "step 3200, training accuracy 0.38\n",
      "step 3300, training accuracy 0.58\n",
      "step 3400, training accuracy 0.52\n",
      "step 3500, training accuracy 0.66\n",
      "step 3600, training accuracy 0.66\n",
      "step 3700, training accuracy 0.64\n",
      "step 3800, training accuracy 0.7\n",
      "step 3900, training accuracy 0.64\n",
      "step 4000, training accuracy 0.68\n",
      "step 4100, training accuracy 0.68\n",
      "step 4200, training accuracy 0.74\n",
      "step 4300, training accuracy 0.7\n",
      "step 4400, training accuracy 0.66\n",
      "step 4500, training accuracy 0.68\n",
      "step 4600, training accuracy 0.62\n",
      "step 4700, training accuracy 0.72\n",
      "step 4800, training accuracy 0.68\n",
      "step 4900, training accuracy 0.68\n",
      "step 5000, training accuracy 0.7\n",
      "step 5100, training accuracy 0.68\n",
      "step 5200, training accuracy 0.74\n",
      "step 5300, training accuracy 0.68\n",
      "step 5400, training accuracy 0.64\n",
      "step 5500, training accuracy 0.76\n",
      "step 5600, training accuracy 0.6\n",
      "step 5700, training accuracy 0.68\n",
      "step 5800, training accuracy 0.72\n",
      "step 5900, training accuracy 0.74\n",
      "step 6000, training accuracy 0.82\n",
      "step 6100, training accuracy 0.78\n",
      "step 6200, training accuracy 0.8\n",
      "step 6300, training accuracy 0.7\n",
      "step 6400, training accuracy 0.78\n",
      "step 6500, training accuracy 0.8\n",
      "step 6600, training accuracy 0.82\n",
      "step 6700, training accuracy 0.82\n",
      "step 6800, training accuracy 0.8\n",
      "step 6900, training accuracy 0.78\n",
      "step 7000, training accuracy 0.7\n",
      "step 7100, training accuracy 0.74\n",
      "step 7200, training accuracy 0.8\n",
      "step 7300, training accuracy 0.8\n",
      "step 7400, training accuracy 0.76\n",
      "step 7500, training accuracy 0.72\n",
      "step 7600, training accuracy 0.86\n",
      "step 7700, training accuracy 0.86\n",
      "step 7800, training accuracy 0.82\n",
      "step 7900, training accuracy 0.88\n",
      "step 8000, training accuracy 0.84\n",
      "step 8100, training accuracy 0.84\n",
      "step 8200, training accuracy 0.9\n",
      "step 8300, training accuracy 0.82\n",
      "step 8400, training accuracy 0.86\n",
      "step 8500, training accuracy 0.88\n",
      "step 8600, training accuracy 0.84\n",
      "step 8700, training accuracy 0.8\n",
      "step 8800, training accuracy 0.84\n",
      "step 8900, training accuracy 0.72\n",
      "step 9000, training accuracy 0.92\n",
      "step 9100, training accuracy 0.82\n",
      "step 9200, training accuracy 0.74\n",
      "step 9300, training accuracy 0.86\n",
      "step 9400, training accuracy 0.74\n",
      "step 9500, training accuracy 0.84\n",
      "step 9600, training accuracy 0.8\n",
      "step 9700, training accuracy 0.88\n",
      "step 9800, training accuracy 0.84\n",
      "step 9900, training accuracy 0.9\n",
      "step 10000, training accuracy 0.76\n",
      "step 10100, training accuracy 0.8\n",
      "step 10200, training accuracy 0.84\n",
      "step 10300, training accuracy 0.78\n",
      "step 10400, training accuracy 0.84\n",
      "step 10500, training accuracy 0.88\n",
      "step 10600, training accuracy 0.92\n",
      "step 10700, training accuracy 0.86\n",
      "step 10800, training accuracy 0.92\n",
      "step 10900, training accuracy 0.68\n",
      "step 11000, training accuracy 0.86\n",
      "step 11100, training accuracy 0.76\n",
      "step 11200, training accuracy 0.92\n",
      "step 11300, training accuracy 0.8\n",
      "step 11400, training accuracy 0.84\n",
      "step 11500, training accuracy 0.86\n",
      "step 11600, training accuracy 0.78\n",
      "step 11700, training accuracy 0.82\n",
      "step 11800, training accuracy 0.78\n",
      "step 11900, training accuracy 0.84\n",
      "step 12000, training accuracy 0.82\n",
      "step 12100, training accuracy 0.86\n",
      "step 12200, training accuracy 0.86\n",
      "step 12300, training accuracy 0.8\n",
      "step 12400, training accuracy 0.84\n",
      "step 12500, training accuracy 0.88\n",
      "step 12600, training accuracy 0.9\n",
      "step 12700, training accuracy 0.9\n",
      "step 12800, training accuracy 0.88\n",
      "step 12900, training accuracy 0.94\n",
      "step 13000, training accuracy 0.88\n",
      "step 13100, training accuracy 0.86\n",
      "step 13200, training accuracy 0.88\n",
      "step 13300, training accuracy 0.9\n",
      "step 13400, training accuracy 0.8\n",
      "step 13500, training accuracy 0.88\n",
      "step 13600, training accuracy 0.84\n",
      "step 13700, training accuracy 0.9\n",
      "step 13800, training accuracy 0.82\n",
      "step 13900, training accuracy 0.74\n",
      "step 14000, training accuracy 0.84\n",
      "step 14100, training accuracy 0.88\n",
      "step 14200, training accuracy 0.86\n",
      "step 14300, training accuracy 0.96\n",
      "step 14400, training accuracy 0.9\n",
      "step 14500, training accuracy 0.9\n",
      "step 14600, training accuracy 0.8\n",
      "step 14700, training accuracy 0.9\n",
      "step 14800, training accuracy 0.86\n",
      "step 14900, training accuracy 0.9\n",
      "step 15000, training accuracy 0.96\n",
      "step 15100, training accuracy 0.88\n",
      "step 15200, training accuracy 0.84\n",
      "step 15300, training accuracy 0.92\n",
      "step 15400, training accuracy 0.9\n",
      "step 15500, training accuracy 0.92\n",
      "step 15600, training accuracy 0.9\n",
      "step 15700, training accuracy 0.98\n",
      "step 15800, training accuracy 0.92\n",
      "step 15900, training accuracy 0.94\n",
      "step 16000, training accuracy 0.84\n",
      "step 16100, training accuracy 0.82\n",
      "step 16200, training accuracy 0.92\n",
      "step 16300, training accuracy 0.82\n",
      "step 16400, training accuracy 0.82\n",
      "step 16500, training accuracy 0.9\n",
      "step 16600, training accuracy 0.92\n",
      "step 16700, training accuracy 0.88\n",
      "step 16800, training accuracy 0.88\n",
      "step 16900, training accuracy 0.84\n",
      "step 17000, training accuracy 0.84\n",
      "step 17100, training accuracy 0.9\n",
      "step 17200, training accuracy 0.88\n",
      "step 17300, training accuracy 0.8\n",
      "step 17400, training accuracy 0.94\n",
      "step 17500, training accuracy 0.9\n",
      "step 17600, training accuracy 0.84\n",
      "step 17700, training accuracy 0.9\n",
      "step 17800, training accuracy 0.9\n",
      "step 17900, training accuracy 0.86\n",
      "step 18000, training accuracy 0.86\n",
      "step 18100, training accuracy 0.94\n",
      "step 18200, training accuracy 0.84\n",
      "step 18300, training accuracy 0.82\n",
      "step 18400, training accuracy 0.92\n",
      "step 18500, training accuracy 0.9\n",
      "step 18600, training accuracy 0.9\n",
      "step 18700, training accuracy 0.86\n",
      "step 18800, training accuracy 0.82\n",
      "step 18900, training accuracy 0.94\n",
      "step 19000, training accuracy 0.88\n",
      "step 19100, training accuracy 0.84\n",
      "step 19200, training accuracy 0.86\n",
      "step 19300, training accuracy 0.84\n",
      "step 19400, training accuracy 0.86\n",
      "step 19500, training accuracy 0.86\n",
      "step 19600, training accuracy 0.9\n",
      "step 19700, training accuracy 0.94\n",
      "step 19800, training accuracy 0.94\n",
      "step 19900, training accuracy 0.9\n"
     ]
    }
   ],
   "source": [
    "cross_entropy = tf.reduce_mean(tf.nn.softmax_cross_entropy_with_logits(labels=y_, logits=y_conv))\n",
    "train_step = tf.train.AdamOptimizer(1e-4).minimize(cross_entropy)\n",
    "correct_prediction = tf.equal(tf.argmax(y_conv, 1), tf.argmax(y_, 1))\n",
    "accuracy = tf.reduce_mean(tf.cast(correct_prediction, tf.float32))\n",
    "\n",
    "with tf.Session() as sess:\n",
    "    sess.run(tf.global_variables_initializer())\n",
    "    for i in range(20000):\n",
    "        batch = mnist.train.next_batch(50)\n",
    "#         if i % 100 == 0:\n",
    "#             train_accuracy = accuracy.eval(feed_dict={x: batch[0], y_: batch[1], keep_prob: 1.0})\n",
    "#             print('step %d, training accuracy %g' % (i, train_accuracy))\n",
    "#             train_step.run(feed_dict={x: batch[0], y_: batch[1], keep_prob: 0.5})\n",
    "\n",
    "print('test accuracy %g' % accuracy.eval(feed_dict={\n",
    "  x: mnist.test.images, y_: mnist.test.labels, keep_prob: 1.0}))"
   ]
  }
 ],
 "metadata": {
  "kernelspec": {
   "display_name": "Python 3",
   "language": "python",
   "name": "python3"
  },
  "language_info": {
   "codemirror_mode": {
    "name": "ipython",
    "version": 3
   },
   "file_extension": ".py",
   "mimetype": "text/x-python",
   "name": "python",
   "nbconvert_exporter": "python",
   "pygments_lexer": "ipython3",
   "version": "3.6.2"
  },
  "toc": {
   "nav_menu": {},
   "number_sections": true,
   "sideBar": true,
   "skip_h1_title": false,
   "toc_cell": false,
   "toc_position": {},
   "toc_section_display": "block",
   "toc_window_display": false
  }
 },
 "nbformat": 4,
 "nbformat_minor": 2
}
